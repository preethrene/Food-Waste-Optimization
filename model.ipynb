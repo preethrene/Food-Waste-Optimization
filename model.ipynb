{
 "cells": [
  {
   "cell_type": "code",
   "execution_count": 1,
   "id": "d586e64a",
   "metadata": {},
   "outputs": [
    {
     "name": "stdout",
     "output_type": "stream",
     "text": [
      "<class 'pandas.core.frame.DataFrame'>\n",
      "RangeIndex: 1782 entries, 0 to 1781\n",
      "Data columns (total 11 columns):\n",
      " #   Column                 Non-Null Count  Dtype \n",
      "---  ------                 --------------  ----- \n",
      " 0   Type of Food           1782 non-null   object\n",
      " 1   Number of Guests       1782 non-null   int64 \n",
      " 2   Event Type             1782 non-null   object\n",
      " 3   Quantity of Food       1782 non-null   int64 \n",
      " 4   Storage Conditions     1782 non-null   object\n",
      " 5   Purchase History       1782 non-null   object\n",
      " 6   Seasonality            1782 non-null   object\n",
      " 7   Preparation Method     1782 non-null   object\n",
      " 8   Geographical Location  1782 non-null   object\n",
      " 9   Pricing                1782 non-null   object\n",
      " 10  Wastage Food Amount    1782 non-null   int64 \n",
      "dtypes: int64(3), object(8)\n",
      "memory usage: 153.3+ KB\n",
      "None\n",
      "  Type of Food  Number of Guests Event Type  Quantity of Food  \\\n",
      "0         Meat               310  Corporate               450   \n",
      "1         Meat               400   Birthday               500   \n",
      "2   Vegetables               302   Birthday               371   \n",
      "3         Meat               491   Birthday               497   \n",
      "4         Meat               300  Corporate               400   \n",
      "\n",
      "  Storage Conditions Purchase History  Seasonality Preparation Method  \\\n",
      "0       Refrigerated          Regular  All Seasons             Buffet   \n",
      "1   Room Temperature          Regular       Winter             Buffet   \n",
      "2       Refrigerated          Regular       Summer             Buffet   \n",
      "3       Refrigerated          Regular  All Seasons        Finger Food   \n",
      "4       Refrigerated          Regular       Winter        Finger Food   \n",
      "\n",
      "  Geographical Location   Pricing  Wastage Food Amount  \n",
      "0                 Urban       Low                   25  \n",
      "1              Suburban      High                   40  \n",
      "2              Suburban       Low                   27  \n",
      "3                 Rural      High                   32  \n",
      "4                 Urban  Moderate                   25  \n"
     ]
    }
   ],
   "source": [
    "import pandas as pd\n",
    "\n",
    "# Load the dataset\n",
    "file_path = 'food_wastage_data.csv'  # Update with your file path\n",
    "data = pd.read_csv(file_path)\n",
    "\n",
    "# Display basic information about the dataset\n",
    "print(data.info())\n",
    "print(data.head())\n"
   ]
  },
  {
   "cell_type": "code",
   "execution_count": 2,
   "id": "a9323fee",
   "metadata": {},
   "outputs": [
    {
     "name": "stdout",
     "output_type": "stream",
     "text": [
      "Training and testing data shapes:\n",
      "(1425, 10) (357, 10) (1425,) (357,)\n"
     ]
    }
   ],
   "source": [
    "from sklearn.model_selection import train_test_split\n",
    "from sklearn.preprocessing import OneHotEncoder, StandardScaler\n",
    "from sklearn.compose import ColumnTransformer\n",
    "\n",
    "# Separate features and target variable\n",
    "X = data.drop(columns=[\"Wastage Food Amount\"])\n",
    "y = data[\"Wastage Food Amount\"]\n",
    "\n",
    "# Identify categorical and numerical columns\n",
    "categorical_columns = X.select_dtypes(include=[\"object\"]).columns.tolist()\n",
    "numerical_columns = X.select_dtypes(include=[\"int64\", \"float64\"]).columns.tolist()\n",
    "\n",
    "# Define a preprocessing pipeline\n",
    "preprocessor = ColumnTransformer(\n",
    "    transformers=[\n",
    "        (\"num\", StandardScaler(), numerical_columns),\n",
    "        (\"cat\", OneHotEncoder(handle_unknown=\"ignore\"), categorical_columns)\n",
    "    ]\n",
    ")\n",
    "\n",
    "# Apply train-test split\n",
    "X_train, X_test, y_train, y_test = train_test_split(X, y, test_size=0.2, random_state=42)\n",
    "\n",
    "print(\"Training and testing data shapes:\")\n",
    "print(X_train.shape, X_test.shape, y_train.shape, y_test.shape)\n"
   ]
  },
  {
   "cell_type": "code",
   "execution_count": 3,
   "id": "04d79b9b",
   "metadata": {},
   "outputs": [
    {
     "name": "stdout",
     "output_type": "stream",
     "text": [
      "Mean Squared Error: 9.60905134470983\n",
      "R² Score: 0.9073002510443942\n"
     ]
    }
   ],
   "source": [
    "from sklearn.ensemble import GradientBoostingRegressor\n",
    "from sklearn.pipeline import Pipeline\n",
    "from sklearn.metrics import mean_squared_error, r2_score\n",
    "\n",
    "# Create a pipeline with preprocessing and model\n",
    "model_pipeline = Pipeline(\n",
    "    steps=[\n",
    "        (\"preprocessor\", preprocessor),\n",
    "        (\"regressor\", GradientBoostingRegressor(random_state=42))\n",
    "    ]\n",
    ")\n",
    "\n",
    "# Train the model\n",
    "model_pipeline.fit(X_train, y_train)\n",
    "\n",
    "# Make predictions on the test set\n",
    "y_pred = model_pipeline.predict(X_test)\n",
    "\n",
    "# Evaluate the model\n",
    "mse = mean_squared_error(y_test, y_pred)\n",
    "r2 = r2_score(y_test, y_pred)\n",
    "\n",
    "print(f\"Mean Squared Error: {mse}\")\n",
    "print(f\"R² Score: {r2}\")\n"
   ]
  },
  {
   "cell_type": "code",
   "execution_count": 4,
   "id": "4b1c9fce",
   "metadata": {},
   "outputs": [
    {
     "name": "stdout",
     "output_type": "stream",
     "text": [
      "Model saved as 'food_wastage_model.joblib'\n"
     ]
    }
   ],
   "source": [
    "import joblib\n",
    "\n",
    "# Save the model to a file\n",
    "joblib.dump(model_pipeline, 'food_wastage_model.joblib')\n",
    "\n",
    "print(\"Model saved as 'food_wastage_model.joblib'\")\n"
   ]
  },
  {
   "cell_type": "code",
   "execution_count": null,
   "id": "bf8441d4",
   "metadata": {},
   "outputs": [],
   "source": []
  }
 ],
 "metadata": {
  "kernelspec": {
   "display_name": "Python 3 (ipykernel)",
   "language": "python",
   "name": "python3"
  },
  "language_info": {
   "codemirror_mode": {
    "name": "ipython",
    "version": 3
   },
   "file_extension": ".py",
   "mimetype": "text/x-python",
   "name": "python",
   "nbconvert_exporter": "python",
   "pygments_lexer": "ipython3",
   "version": "3.11.4"
  }
 },
 "nbformat": 4,
 "nbformat_minor": 5
}
